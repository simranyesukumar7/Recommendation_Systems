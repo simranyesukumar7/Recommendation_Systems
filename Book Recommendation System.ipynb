{
 "cells": [
  {
   "cell_type": "code",
   "execution_count": 1,
   "id": "e76d7cb6",
   "metadata": {},
   "outputs": [
    {
     "name": "stderr",
     "output_type": "stream",
     "text": [
      "C:\\Anaconda\\lib\\site-packages\\scipy\\__init__.py:146: UserWarning: A NumPy version >=1.16.5 and <1.23.0 is required for this version of SciPy (detected version 1.26.4\n",
      "  warnings.warn(f\"A NumPy version >={np_minversion} and <{np_maxversion}\"\n"
     ]
    }
   ],
   "source": [
    "import numpy as np\n",
    "import pandas as pd\n",
    "import seaborn as sns\n",
    "import matplotlib.pyplot as plt\n",
    "from sklearn.preprocessing import StandardScaler\n",
    "from sklearn.metrics.pairwise import cosine_similarity"
   ]
  },
  {
   "cell_type": "code",
   "execution_count": 2,
   "id": "f372bc4d",
   "metadata": {},
   "outputs": [
    {
     "name": "stderr",
     "output_type": "stream",
     "text": [
      "C:\\Users\\Simran Yesukumar\\AppData\\Local\\Temp\\ipykernel_17520\\4053402643.py:2: DtypeWarning: Columns (3) have mixed types. Specify dtype option on import or set low_memory=False.\n",
      "  books_df = pd.read_csv('Books.csv')\n"
     ]
    }
   ],
   "source": [
    "users_df = pd.read_csv('Users.csv')\n",
    "books_df = pd.read_csv('Books.csv')\n",
    "ratings_df = pd.read_csv('Ratings.csv')"
   ]
  },
  {
   "cell_type": "code",
   "execution_count": 3,
   "id": "d5d14e20",
   "metadata": {},
   "outputs": [
    {
     "data": {
      "text/html": [
       "<div>\n",
       "<style scoped>\n",
       "    .dataframe tbody tr th:only-of-type {\n",
       "        vertical-align: middle;\n",
       "    }\n",
       "\n",
       "    .dataframe tbody tr th {\n",
       "        vertical-align: top;\n",
       "    }\n",
       "\n",
       "    .dataframe thead th {\n",
       "        text-align: right;\n",
       "    }\n",
       "</style>\n",
       "<table border=\"1\" class=\"dataframe\">\n",
       "  <thead>\n",
       "    <tr style=\"text-align: right;\">\n",
       "      <th></th>\n",
       "      <th>User-ID</th>\n",
       "      <th>Location</th>\n",
       "      <th>Age</th>\n",
       "    </tr>\n",
       "  </thead>\n",
       "  <tbody>\n",
       "    <tr>\n",
       "      <th>0</th>\n",
       "      <td>1</td>\n",
       "      <td>nyc, new york, usa</td>\n",
       "      <td>NaN</td>\n",
       "    </tr>\n",
       "    <tr>\n",
       "      <th>1</th>\n",
       "      <td>2</td>\n",
       "      <td>stockton, california, usa</td>\n",
       "      <td>18.0</td>\n",
       "    </tr>\n",
       "    <tr>\n",
       "      <th>2</th>\n",
       "      <td>3</td>\n",
       "      <td>moscow, yukon territory, russia</td>\n",
       "      <td>NaN</td>\n",
       "    </tr>\n",
       "    <tr>\n",
       "      <th>3</th>\n",
       "      <td>4</td>\n",
       "      <td>porto, v.n.gaia, portugal</td>\n",
       "      <td>17.0</td>\n",
       "    </tr>\n",
       "    <tr>\n",
       "      <th>4</th>\n",
       "      <td>5</td>\n",
       "      <td>farnborough, hants, united kingdom</td>\n",
       "      <td>NaN</td>\n",
       "    </tr>\n",
       "  </tbody>\n",
       "</table>\n",
       "</div>"
      ],
      "text/plain": [
       "   User-ID                            Location   Age\n",
       "0        1                  nyc, new york, usa   NaN\n",
       "1        2           stockton, california, usa  18.0\n",
       "2        3     moscow, yukon territory, russia   NaN\n",
       "3        4           porto, v.n.gaia, portugal  17.0\n",
       "4        5  farnborough, hants, united kingdom   NaN"
      ]
     },
     "execution_count": 3,
     "metadata": {},
     "output_type": "execute_result"
    }
   ],
   "source": [
    "users_df.head()"
   ]
  },
  {
   "cell_type": "code",
   "execution_count": 4,
   "id": "c3f2b907",
   "metadata": {},
   "outputs": [
    {
     "data": {
      "text/plain": [
       "User-ID          0\n",
       "Location         0\n",
       "Age         110762\n",
       "dtype: int64"
      ]
     },
     "execution_count": 4,
     "metadata": {},
     "output_type": "execute_result"
    }
   ],
   "source": [
    "users_df.isna().sum()"
   ]
  },
  {
   "cell_type": "code",
   "execution_count": 5,
   "id": "5ba940ae",
   "metadata": {},
   "outputs": [
    {
     "name": "stdout",
     "output_type": "stream",
     "text": [
      "<class 'pandas.core.frame.DataFrame'>\n",
      "RangeIndex: 271360 entries, 0 to 271359\n",
      "Data columns (total 8 columns):\n",
      " #   Column               Non-Null Count   Dtype \n",
      "---  ------               --------------   ----- \n",
      " 0   ISBN                 271360 non-null  object\n",
      " 1   Book-Title           271360 non-null  object\n",
      " 2   Book-Author          271359 non-null  object\n",
      " 3   Year-Of-Publication  271360 non-null  object\n",
      " 4   Publisher            271358 non-null  object\n",
      " 5   Image-URL-S          271360 non-null  object\n",
      " 6   Image-URL-M          271360 non-null  object\n",
      " 7   Image-URL-L          271357 non-null  object\n",
      "dtypes: object(8)\n",
      "memory usage: 16.6+ MB\n"
     ]
    }
   ],
   "source": [
    "books_df.info()"
   ]
  },
  {
   "cell_type": "code",
   "execution_count": 6,
   "id": "dd9d0142",
   "metadata": {},
   "outputs": [
    {
     "name": "stdout",
     "output_type": "stream",
     "text": [
      "<class 'pandas.core.frame.DataFrame'>\n",
      "RangeIndex: 1149780 entries, 0 to 1149779\n",
      "Data columns (total 3 columns):\n",
      " #   Column       Non-Null Count    Dtype \n",
      "---  ------       --------------    ----- \n",
      " 0   User-ID      1149780 non-null  int64 \n",
      " 1   ISBN         1149780 non-null  object\n",
      " 2   Book-Rating  1149780 non-null  int64 \n",
      "dtypes: int64(2), object(1)\n",
      "memory usage: 26.3+ MB\n"
     ]
    }
   ],
   "source": [
    "ratings_df.info()"
   ]
  },
  {
   "cell_type": "code",
   "execution_count": 7,
   "id": "571da805",
   "metadata": {},
   "outputs": [
    {
     "name": "stdout",
     "output_type": "stream",
     "text": [
      "<class 'pandas.core.frame.DataFrame'>\n",
      "RangeIndex: 278858 entries, 0 to 278857\n",
      "Data columns (total 3 columns):\n",
      " #   Column    Non-Null Count   Dtype  \n",
      "---  ------    --------------   -----  \n",
      " 0   User-ID   278858 non-null  int64  \n",
      " 1   Location  278858 non-null  object \n",
      " 2   Age       168096 non-null  float64\n",
      "dtypes: float64(1), int64(1), object(1)\n",
      "memory usage: 6.4+ MB\n"
     ]
    }
   ],
   "source": [
    "users_df.info()"
   ]
  },
  {
   "cell_type": "code",
   "execution_count": 8,
   "id": "7878baf3",
   "metadata": {},
   "outputs": [
    {
     "data": {
      "text/plain": [
       "0                         nyc, new york, usa\n",
       "1                  stockton, california, usa\n",
       "2            moscow, yukon territory, russia\n",
       "3                  porto, v.n.gaia, portugal\n",
       "4         farnborough, hants, united kingdom\n",
       "                         ...                \n",
       "278853                 portland, oregon, usa\n",
       "278854    tacoma, washington, united kingdom\n",
       "278855             brampton, ontario, canada\n",
       "278856             knoxville, tennessee, usa\n",
       "278857                  dublin, n/a, ireland\n",
       "Name: Location, Length: 278858, dtype: object"
      ]
     },
     "execution_count": 8,
     "metadata": {},
     "output_type": "execute_result"
    }
   ],
   "source": [
    "users_df['Location']"
   ]
  },
  {
   "cell_type": "code",
   "execution_count": 9,
   "id": "f45dfced",
   "metadata": {},
   "outputs": [],
   "source": [
    "#Splitting the location into city, state and country \n",
    "users_df[['City', 'State', 'Country']] = users_df['Location'].str.split(',', expand = True)[[0,1,2]]"
   ]
  },
  {
   "cell_type": "code",
   "execution_count": 10,
   "id": "0b470687",
   "metadata": {},
   "outputs": [
    {
     "data": {
      "text/html": [
       "<div>\n",
       "<style scoped>\n",
       "    .dataframe tbody tr th:only-of-type {\n",
       "        vertical-align: middle;\n",
       "    }\n",
       "\n",
       "    .dataframe tbody tr th {\n",
       "        vertical-align: top;\n",
       "    }\n",
       "\n",
       "    .dataframe thead th {\n",
       "        text-align: right;\n",
       "    }\n",
       "</style>\n",
       "<table border=\"1\" class=\"dataframe\">\n",
       "  <thead>\n",
       "    <tr style=\"text-align: right;\">\n",
       "      <th></th>\n",
       "      <th>User-ID</th>\n",
       "      <th>Location</th>\n",
       "      <th>Age</th>\n",
       "      <th>City</th>\n",
       "      <th>State</th>\n",
       "      <th>Country</th>\n",
       "    </tr>\n",
       "  </thead>\n",
       "  <tbody>\n",
       "    <tr>\n",
       "      <th>0</th>\n",
       "      <td>1</td>\n",
       "      <td>nyc, new york, usa</td>\n",
       "      <td>NaN</td>\n",
       "      <td>nyc</td>\n",
       "      <td>new york</td>\n",
       "      <td>usa</td>\n",
       "    </tr>\n",
       "    <tr>\n",
       "      <th>1</th>\n",
       "      <td>2</td>\n",
       "      <td>stockton, california, usa</td>\n",
       "      <td>18.0</td>\n",
       "      <td>stockton</td>\n",
       "      <td>california</td>\n",
       "      <td>usa</td>\n",
       "    </tr>\n",
       "  </tbody>\n",
       "</table>\n",
       "</div>"
      ],
      "text/plain": [
       "   User-ID                   Location   Age      City        State Country\n",
       "0        1         nyc, new york, usa   NaN       nyc     new york     usa\n",
       "1        2  stockton, california, usa  18.0  stockton   california     usa"
      ]
     },
     "execution_count": 10,
     "metadata": {},
     "output_type": "execute_result"
    }
   ],
   "source": [
    "users_df.head(2)"
   ]
  },
  {
   "cell_type": "code",
   "execution_count": 11,
   "id": "18b6ab8c",
   "metadata": {},
   "outputs": [],
   "source": [
    "#Dropping the duplicates in the books df on book titles \n",
    "books_df = books_df.drop_duplicates(subset = \"Book-Title\", keep=\"first\")"
   ]
  },
  {
   "cell_type": "code",
   "execution_count": 12,
   "id": "642f5a89",
   "metadata": {},
   "outputs": [],
   "source": [
    "#Merging ratings and their respective books\n",
    "ratings_books_df = ratings_df.merge(books_df, on='ISBN')"
   ]
  },
  {
   "cell_type": "code",
   "execution_count": 13,
   "id": "df4feee6",
   "metadata": {},
   "outputs": [
    {
     "ename": "NameError",
     "evalue": "name 'ratings_booratings_books_dfks_df' is not defined",
     "output_type": "error",
     "traceback": [
      "\u001b[1;31m---------------------------------------------------------------------------\u001b[0m",
      "\u001b[1;31mNameError\u001b[0m                                 Traceback (most recent call last)",
      "Input \u001b[1;32mIn [13]\u001b[0m, in \u001b[0;36m<cell line: 1>\u001b[1;34m()\u001b[0m\n\u001b[1;32m----> 1\u001b[0m \u001b[43mratings_booratings_books_dfks_df\u001b[49m\u001b[38;5;241m.\u001b[39mhead(\u001b[38;5;241m2\u001b[39m)\n",
      "\u001b[1;31mNameError\u001b[0m: name 'ratings_booratings_books_dfks_df' is not defined"
     ]
    }
   ],
   "source": [
    "ratings_booratings_books_dfks_df.head(2)"
   ]
  },
  {
   "cell_type": "code",
   "execution_count": null,
   "id": "51848444",
   "metadata": {},
   "outputs": [],
   "source": [
    "ratings_books_df.info()"
   ]
  },
  {
   "cell_type": "code",
   "execution_count": null,
   "id": "913ebefb",
   "metadata": {},
   "outputs": [],
   "source": [
    "#Drop unnecessary columns\n",
    "ratings_books_df.drop(['ISBN', 'Image-URL-S', 'Image-URL-M', 'Image-URL-L'], axis = 1, inplace = True)"
   ]
  },
  {
   "cell_type": "code",
   "execution_count": null,
   "id": "c036db23",
   "metadata": {},
   "outputs": [],
   "source": [
    "ratings_books_df.shape"
   ]
  },
  {
   "cell_type": "code",
   "execution_count": null,
   "id": "0c719e47",
   "metadata": {},
   "outputs": [],
   "source": [
    "ratings_books_df.head(2)"
   ]
  },
  {
   "cell_type": "code",
   "execution_count": null,
   "id": "9969cc19",
   "metadata": {},
   "outputs": [],
   "source": [
    "#Merge user details with the ratings and book details\n",
    "users_ratings_books_df = ratings_books_df.merge(users_df, on='User-ID')"
   ]
  },
  {
   "cell_type": "code",
   "execution_count": null,
   "id": "64ea42ff",
   "metadata": {},
   "outputs": [],
   "source": [
    "users_ratings_books_df.head(2)"
   ]
  },
  {
   "cell_type": "code",
   "execution_count": null,
   "id": "570c66d2",
   "metadata": {},
   "outputs": [],
   "source": [
    "#Dropping unnecessary columns\n",
    "users_ratings_books_df.drop(['Location', 'Age', 'City','State', 'Country'], axis = 1, inplace = True)"
   ]
  },
  {
   "cell_type": "code",
   "execution_count": null,
   "id": "2e696915",
   "metadata": {},
   "outputs": [],
   "source": [
    "users_ratings_books_df.head(2)"
   ]
  },
  {
   "cell_type": "code",
   "execution_count": null,
   "id": "4bf6d3d6",
   "metadata": {},
   "outputs": [],
   "source": [
    "users_ratings_books_df.shape"
   ]
  },
  {
   "cell_type": "code",
   "execution_count": null,
   "id": "f483c82c",
   "metadata": {},
   "outputs": [],
   "source": [
    "users_ratings_books_df.isna().sum()"
   ]
  },
  {
   "cell_type": "code",
   "execution_count": null,
   "id": "85fcabfd",
   "metadata": {},
   "outputs": [],
   "source": [
    "#Dropping na rows \n",
    "users_ratings_books_df.dropna(inplace = True)"
   ]
  },
  {
   "cell_type": "code",
   "execution_count": null,
   "id": "10e0d276",
   "metadata": {},
   "outputs": [],
   "source": [
    "users_ratings_books_df.shape"
   ]
  },
  {
   "cell_type": "code",
   "execution_count": null,
   "id": "c5370862",
   "metadata": {},
   "outputs": [],
   "source": [
    "book_num_ratings = users_ratings_books_df.groupby('Book-Title')['Book-Rating'].count().reset_index().rename(columns = {'Book-Rating':'Num-Ratings' })\n",
    "book_avg_ratings = users_ratings_books_df.groupby('Book-Title')['Book-Rating'].mean().reset_index().rename(columns = {'Book-Rating':'Avg-Ratings' })\n",
    "final_user_ratings = book_num_ratings.merge(book_avg_ratings , on = 'Book-Title')"
   ]
  },
  {
   "cell_type": "code",
   "execution_count": null,
   "id": "ff6cab0a",
   "metadata": {},
   "outputs": [],
   "source": [
    "final_user_ratings.head(2)"
   ]
  },
  {
   "cell_type": "markdown",
   "id": "cb31febb",
   "metadata": {},
   "source": [
    "# Popularity based filtering"
   ]
  },
  {
   "cell_type": "code",
   "execution_count": null,
   "id": "4f094a31",
   "metadata": {},
   "outputs": [],
   "source": [
    "#Filtered out top 50 books with more than 250 ratings\n",
    "popular_books = final_user_ratings[final_user_ratings['Num-Ratings'] > 250].sort_values(by = 'Avg-Ratings'  , ascending= False).reset_index(drop = True).head(50)"
   ]
  },
  {
   "cell_type": "code",
   "execution_count": null,
   "id": "ea22a875",
   "metadata": {},
   "outputs": [],
   "source": [
    "popular_books.head(2)"
   ]
  },
  {
   "cell_type": "markdown",
   "id": "e27c5fd6",
   "metadata": {},
   "source": [
    "# Collaborative Filtering Method"
   ]
  },
  {
   "cell_type": "code",
   "execution_count": null,
   "id": "01f1a099",
   "metadata": {},
   "outputs": [],
   "source": [
    "#Users who have rated more than 200 books\n",
    "x = users_ratings_books_df.groupby('User-ID').count()['Book-Rating'] > 200\n",
    "well_read_users  = x[x].index\n",
    "\n",
    "book_ratings = users_ratings_books_df[users_ratings_books_df['User-ID'].isin(well_read_users)]\n",
    "\n",
    "#books with atleast 50 ratings \n",
    "y  = users_ratings_books_df.groupby('Book-Title')['Book-Rating'].count() >= 50\n",
    "popular_books = y[y].index\n",
    "\n",
    "final = users_ratings_books_df[users_ratings_books_df['Book-Title'].isin(popular_books)]"
   ]
  },
  {
   "cell_type": "code",
   "execution_count": null,
   "id": "2ca59fb9",
   "metadata": {},
   "outputs": [],
   "source": [
    "final.head(2)"
   ]
  },
  {
   "cell_type": "code",
   "execution_count": null,
   "id": "ad7a63e6",
   "metadata": {},
   "outputs": [],
   "source": [
    "final.shape"
   ]
  },
  {
   "cell_type": "code",
   "execution_count": null,
   "id": "25b052d6",
   "metadata": {},
   "outputs": [],
   "source": [
    "final_df = final.pivot_table(index=\"Book-Title\",columns = \"User-ID\", values=\"Book-Rating\").fillna(0)"
   ]
  },
  {
   "cell_type": "code",
   "execution_count": null,
   "id": "d498c2bc",
   "metadata": {},
   "outputs": [],
   "source": [
    "final_df"
   ]
  },
  {
   "cell_type": "code",
   "execution_count": null,
   "id": "9626593a",
   "metadata": {},
   "outputs": [],
   "source": [
    "similarity_scores = cosine_similarity(final_df)\n",
    "\n",
    "def recommend(book_name):\n",
    "    # Find the index of the given book in the DataFrame\n",
    "    book_index = np.where(final_df.index == book_name)[0][0]\n",
    "    \n",
    "    # Get similarity scores for the given book and sort them in descending order\n",
    "    # Exclude the book itself by slicing [1:6] for top 5 similar books\n",
    "    similar_books = sorted(\n",
    "        enumerate(similarity_scores[book_index]), \n",
    "        key=lambda x: x[1], \n",
    "        reverse=True\n",
    "    )[1:6]\n",
    "    \n",
    "    # Print the names of the similar books\n",
    "    for book in similar_books:\n",
    "        print(final_df.index[book[0]])"
   ]
  },
  {
   "cell_type": "code",
   "execution_count": null,
   "id": "232a02f1",
   "metadata": {},
   "outputs": [],
   "source": [
    "recommend(\"stardust\")"
   ]
  },
  {
   "cell_type": "code",
   "execution_count": null,
   "id": "805bf57d",
   "metadata": {},
   "outputs": [],
   "source": [
    "recommend(\"204 Rosewood Lane\")"
   ]
  },
  {
   "cell_type": "markdown",
   "id": "7c91da8b",
   "metadata": {},
   "source": [
    "# Collaborative filtering using KNN Machine Learning model"
   ]
  },
  {
   "cell_type": "markdown",
   "id": "78019025",
   "metadata": {},
   "source": [
    "K-Nearest Neighbors (KNN) Model for Book Recommendations:\n",
    "The K-Nearest Neighbors (KNN) model is used for both classification and regression tasks. For this task, I have used KNN to recommend books that are similar to a given book based on the proximity of features in a multi-dimensional space.\n",
    "\n",
    "KNN works by calculating the \"distance\" between data points. In the context of books, the distance represents how similar two books are based on their features, such as genre, author, ratings, etc.\n",
    "The model identifies the k nearest neighbors (similar books) to the given book. The k value specifies how many neighbors to consider for making the recommendation. In this case, n_neighbors=6 means that it considers 6 books, including the input book itself.\n",
    "\n",
    "Recommendation Process:\n",
    "\n",
    "When a book is selected, the model calculates the distance between the selected book and all other books in the dataset.\n",
    "It then returns the k nearest neighbors (the most similar books) based on these calculated distances."
   ]
  },
  {
   "cell_type": "code",
   "execution_count": null,
   "id": "3d69cc3f",
   "metadata": {},
   "outputs": [],
   "source": [
    "from sklearn.neighbors import NearestNeighbors\n",
    "from sklearn.cluster import KMeans\n",
    "from sklearn.metrics import silhouette_score\n",
    "from sklearn.mixture import GaussianMixture\n",
    "from scipy.sparse import csr_matrix\n",
    "\n",
    "final_dataset = final_df.copy()\n",
    "final_dataset_sparse = csr_matrix(final_dataset)\n",
    "knn_model = NearestNeighbors(metric='cosine',algorithm='brute')\n",
    "knn_model.fit(final_dataset_sparse)"
   ]
  },
  {
   "cell_type": "code",
   "execution_count": null,
   "id": "c96c50f5",
   "metadata": {},
   "outputs": [],
   "source": [
    "def recommend_knn(book_name):\n",
    "    # Get the distances and suggestions for the given book from the KNN model\n",
    "    dist, sugg = knn_model.kneighbors(final_dataset[final_dataset.index == book_name], n_neighbors=6)\n",
    "    \n",
    "    # Print the book recommendation heading\n",
    "    print(f'Book Recommendations for \"{book_name}\":')\n",
    "    \n",
    "    # Loop through the suggestions (skipping the first one, as it’s the book itself)\n",
    "    for i in range(1, len(sugg[0])):\n",
    "        recommended_book = final_dataset.index[sugg[0][i]]\n",
    "        print(f'{i}. {recommended_book}')"
   ]
  },
  {
   "cell_type": "code",
   "execution_count": null,
   "id": "bbe1b45d",
   "metadata": {},
   "outputs": [],
   "source": [
    "recommend_knn('Message in a Bottle')"
   ]
  },
  {
   "cell_type": "code",
   "execution_count": null,
   "id": "527fb78d",
   "metadata": {},
   "outputs": [],
   "source": []
  },
  {
   "cell_type": "code",
   "execution_count": null,
   "id": "97cd798c",
   "metadata": {},
   "outputs": [],
   "source": []
  }
 ],
 "metadata": {
  "kernelspec": {
   "display_name": "Python 3 (ipykernel)",
   "language": "python",
   "name": "python3"
  },
  "language_info": {
   "codemirror_mode": {
    "name": "ipython",
    "version": 3
   },
   "file_extension": ".py",
   "mimetype": "text/x-python",
   "name": "python",
   "nbconvert_exporter": "python",
   "pygments_lexer": "ipython3",
   "version": "3.9.12"
  }
 },
 "nbformat": 4,
 "nbformat_minor": 5
}
